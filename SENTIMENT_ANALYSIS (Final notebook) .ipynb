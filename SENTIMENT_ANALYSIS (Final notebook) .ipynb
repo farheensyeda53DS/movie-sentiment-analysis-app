{
  "cells": [
    {
      "cell_type": "markdown",
      "id": "5e0b2332-803d-4926-9d0c-3fa3e6b25393",
      "metadata": {
        "id": "5e0b2332-803d-4926-9d0c-3fa3e6b25393"
      },
      "source": [
        "# NLP-Based Sentiment Analysis for Movie Review"
      ]
    },
    {
      "cell_type": "markdown",
      "id": "c90328e8-5286-4869-baf7-c905ede8fe18",
      "metadata": {
        "id": "c90328e8-5286-4869-baf7-c905ede8fe18"
      },
      "source": [
        "## Objective\n",
        "This project focuses on constructing a system to evaluate movie reviews, categorizing sentiments into positive or negative labels. By applying NLP and leveraging various machine learning algorithms, the aim is to ensure reliable and precise sentiment detection."
      ]
    },
    {
      "cell_type": "markdown",
      "id": "0ca342ef-b055-4235-8651-263b2fe04943",
      "metadata": {
        "id": "0ca342ef-b055-4235-8651-263b2fe04943"
      },
      "source": [
        "## Methodology\n",
        "The project is structured into key phases to achieve its goals:\n",
        "\n",
        "**Text Preprocessing and Cleansing:**\n",
        "\n",
        "1. Dataset cleaning involves eliminating irrelevant components like HTML tags and symbols. The text is then converted to lowercase, and linguistic normalization techniques, such as stemming and lemmatization, are employed for consistency.\n",
        "\n",
        "**Feature Engineering:**\n",
        "\n",
        "2. Post-cleaning, the textual data is encoded into numerical representations through the TF-IDF method, which quantifies term significance. This transformation ensures efficient processing by machine learning algorithms.\n",
        "\n",
        "**Model development and Evaluation:**\n",
        "\n",
        "3. The dataset is analyzed using multiple classifiers like Naive Bayes, Logistic Regression, Decision Trees, Random Forests, and K-Nearest Neighbors. Their effectiveness is compared based on metrics such as accuracy to identify the most robust sentiment classifier.\n",
        "\n",
        "**Model Optimization and Selection:**\n",
        "\n",
        "4. A comparative assessment is conducted to identify the most accurate model, which is then selected for the final sentiment analysis deployment."
      ]
    },
    {
      "cell_type": "markdown",
      "id": "cb92c56a-6b49-4a67-a69d-14cbad69a2cb",
      "metadata": {
        "id": "cb92c56a-6b49-4a67-a69d-14cbad69a2cb"
      },
      "source": [
        "## Outcome\n",
        "The project results in a thoroughly trained and validated sentiment analysis model, proficient in differentiating positive from negative reviews. Practical applications include enhancing movie recommendations, analyzing customer feedback, and monitoring sentiment trends across platforms."
      ]
    },
    {
      "cell_type": "markdown",
      "source": [
        "## Implementation:\n",
        "Prior to initiating the project, it's essential to install the requisite Python libraries and tools. These utilities assist in data preparation, visualization, model construction, and performance evaluation, ensuring a seamless workflow throughout the project."
      ],
      "metadata": {
        "id": "zX4Fn9r4B75_"
      },
      "id": "zX4Fn9r4B75_"
    },
    {
      "cell_type": "markdown",
      "source": [
        "Install necessary dependencies"
      ],
      "metadata": {
        "id": "OWVfuMiEDJMj"
      },
      "id": "OWVfuMiEDJMj"
    },
    {
      "cell_type": "code",
      "source": [
        "pip install pandas numpy scikit-learn matplotlib seaborn joblib nltk"
      ],
      "metadata": {
        "colab": {
          "base_uri": "https://localhost:8080/"
        },
        "id": "_lF35miKDFpR",
        "outputId": "5e57931b-8a5c-49f4-b5aa-dfb9269ea561"
      },
      "id": "_lF35miKDFpR",
      "execution_count": 1,
      "outputs": [
        {
          "output_type": "stream",
          "name": "stdout",
          "text": [
            "Requirement already satisfied: pandas in /usr/local/lib/python3.11/dist-packages (2.2.2)\n",
            "Requirement already satisfied: numpy in /usr/local/lib/python3.11/dist-packages (1.26.4)\n",
            "Requirement already satisfied: scikit-learn in /usr/local/lib/python3.11/dist-packages (1.6.1)\n",
            "Requirement already satisfied: matplotlib in /usr/local/lib/python3.11/dist-packages (3.10.0)\n",
            "Requirement already satisfied: seaborn in /usr/local/lib/python3.11/dist-packages (0.13.2)\n",
            "Requirement already satisfied: joblib in /usr/local/lib/python3.11/dist-packages (1.4.2)\n",
            "Requirement already satisfied: nltk in /usr/local/lib/python3.11/dist-packages (3.9.1)\n",
            "Requirement already satisfied: python-dateutil>=2.8.2 in /usr/local/lib/python3.11/dist-packages (from pandas) (2.8.2)\n",
            "Requirement already satisfied: pytz>=2020.1 in /usr/local/lib/python3.11/dist-packages (from pandas) (2025.1)\n",
            "Requirement already satisfied: tzdata>=2022.7 in /usr/local/lib/python3.11/dist-packages (from pandas) (2025.1)\n",
            "Requirement already satisfied: scipy>=1.6.0 in /usr/local/lib/python3.11/dist-packages (from scikit-learn) (1.13.1)\n",
            "Requirement already satisfied: threadpoolctl>=3.1.0 in /usr/local/lib/python3.11/dist-packages (from scikit-learn) (3.5.0)\n",
            "Requirement already satisfied: contourpy>=1.0.1 in /usr/local/lib/python3.11/dist-packages (from matplotlib) (1.3.1)\n",
            "Requirement already satisfied: cycler>=0.10 in /usr/local/lib/python3.11/dist-packages (from matplotlib) (0.12.1)\n",
            "Requirement already satisfied: fonttools>=4.22.0 in /usr/local/lib/python3.11/dist-packages (from matplotlib) (4.56.0)\n",
            "Requirement already satisfied: kiwisolver>=1.3.1 in /usr/local/lib/python3.11/dist-packages (from matplotlib) (1.4.8)\n",
            "Requirement already satisfied: packaging>=20.0 in /usr/local/lib/python3.11/dist-packages (from matplotlib) (24.2)\n",
            "Requirement already satisfied: pillow>=8 in /usr/local/lib/python3.11/dist-packages (from matplotlib) (11.1.0)\n",
            "Requirement already satisfied: pyparsing>=2.3.1 in /usr/local/lib/python3.11/dist-packages (from matplotlib) (3.2.1)\n",
            "Requirement already satisfied: click in /usr/local/lib/python3.11/dist-packages (from nltk) (8.1.8)\n",
            "Requirement already satisfied: regex>=2021.8.3 in /usr/local/lib/python3.11/dist-packages (from nltk) (2024.11.6)\n",
            "Requirement already satisfied: tqdm in /usr/local/lib/python3.11/dist-packages (from nltk) (4.67.1)\n",
            "Requirement already satisfied: six>=1.5 in /usr/local/lib/python3.11/dist-packages (from python-dateutil>=2.8.2->pandas) (1.17.0)\n"
          ]
        }
      ]
    },
    {
      "cell_type": "markdown",
      "source": [
        "### Library Imports\n",
        "The required libraries are imported to handle essential tasks such as data handling, visualization, text processing, and implementing machine learning algorithms throughout the project. (lib changedd"
      ],
      "metadata": {
        "id": "5dBuEATpDQ4C"
      },
      "id": "5dBuEATpDQ4C"
    },
    {
      "cell_type": "code",
      "source": [
        "# Import essential libraries for data handling, analysis, and visualization\n",
        "import pandas as pd\n",
        "import numpy as np\n",
        "import re\n",
        "from sklearn.model_selection import train_test_split\n",
        "from sklearn.feature_extraction.text import TfidfVectorizer\n",
        "from sklearn.naive_bayes import MultinomialNB\n",
        "from sklearn.ensemble import RandomForestClassifier\n",
        "from sklearn.linear_model import LogisticRegression\n",
        "from sklearn.tree import DecisionTreeClassifier\n",
        "from sklearn.metrics import classification_report\n",
        "from sklearn.pipeline import Pipeline\n",
        "import matplotlib.pyplot as plt\n",
        "import seaborn as sns\n",
        "import joblib\n",
        "import warnings\n",
        "\n",
        "warnings.filterwarnings('ignore')"
      ],
      "metadata": {
        "id": "tDWm_gDCDWDK"
      },
      "id": "tDWm_gDCDWDK",
      "execution_count": 2,
      "outputs": []
    },
    {
      "cell_type": "markdown",
      "source": [
        "### Data Loading and Overview\n",
        "Commence by loading the dataset to gain an initial understanding and prepare it for subsequent processing steps."
      ],
      "metadata": {
        "id": "xW25OqUqDh1j"
      },
      "id": "xW25OqUqDh1j"
    },
    {
      "cell_type": "code",
      "source": [
        "import pandas as pd  # Ensure pandas is imported\n",
        "\n",
        "# Define the path dynamically\n",
        "data_path = '/content/IMDB Dataset.csv'  # Change this to your path\n",
        "imdb_reviews = pd.read_csv(data_path)  # Use pd.read_csv()\n",
        "\n",
        "# Show a random 5 rows instead of always showing the top 5 rows\n",
        "imdb_reviews.sample(5)\n"
      ],
      "metadata": {
        "colab": {
          "base_uri": "https://localhost:8080/",
          "height": 206
        },
        "id": "hm5juCOrDpv0",
        "outputId": "bfa3381f-d1ac-4c69-a550-eb38d3ba6183"
      },
      "id": "hm5juCOrDpv0",
      "execution_count": 3,
      "outputs": [
        {
          "output_type": "execute_result",
          "data": {
            "text/plain": [
              "                                                  review sentiment\n",
              "39771  Normally, I do not review online, but it's Sat...  positive\n",
              "37646  I will admit that I'm only a college student a...  negative\n",
              "14525  This movie was not only disappointing to the h...  negative\n",
              "23792  Hubie -- like Stanely the troll from Bluth's A...  negative\n",
              "25859  \"Showtime\" is a funny film starring funnymen R...  positive"
            ],
            "text/html": [
              "\n",
              "  <div id=\"df-2a4e8d4f-b5fd-4325-97fa-c487de245e8b\" class=\"colab-df-container\">\n",
              "    <div>\n",
              "<style scoped>\n",
              "    .dataframe tbody tr th:only-of-type {\n",
              "        vertical-align: middle;\n",
              "    }\n",
              "\n",
              "    .dataframe tbody tr th {\n",
              "        vertical-align: top;\n",
              "    }\n",
              "\n",
              "    .dataframe thead th {\n",
              "        text-align: right;\n",
              "    }\n",
              "</style>\n",
              "<table border=\"1\" class=\"dataframe\">\n",
              "  <thead>\n",
              "    <tr style=\"text-align: right;\">\n",
              "      <th></th>\n",
              "      <th>review</th>\n",
              "      <th>sentiment</th>\n",
              "    </tr>\n",
              "  </thead>\n",
              "  <tbody>\n",
              "    <tr>\n",
              "      <th>39771</th>\n",
              "      <td>Normally, I do not review online, but it's Sat...</td>\n",
              "      <td>positive</td>\n",
              "    </tr>\n",
              "    <tr>\n",
              "      <th>37646</th>\n",
              "      <td>I will admit that I'm only a college student a...</td>\n",
              "      <td>negative</td>\n",
              "    </tr>\n",
              "    <tr>\n",
              "      <th>14525</th>\n",
              "      <td>This movie was not only disappointing to the h...</td>\n",
              "      <td>negative</td>\n",
              "    </tr>\n",
              "    <tr>\n",
              "      <th>23792</th>\n",
              "      <td>Hubie -- like Stanely the troll from Bluth's A...</td>\n",
              "      <td>negative</td>\n",
              "    </tr>\n",
              "    <tr>\n",
              "      <th>25859</th>\n",
              "      <td>\"Showtime\" is a funny film starring funnymen R...</td>\n",
              "      <td>positive</td>\n",
              "    </tr>\n",
              "  </tbody>\n",
              "</table>\n",
              "</div>\n",
              "    <div class=\"colab-df-buttons\">\n",
              "\n",
              "  <div class=\"colab-df-container\">\n",
              "    <button class=\"colab-df-convert\" onclick=\"convertToInteractive('df-2a4e8d4f-b5fd-4325-97fa-c487de245e8b')\"\n",
              "            title=\"Convert this dataframe to an interactive table.\"\n",
              "            style=\"display:none;\">\n",
              "\n",
              "  <svg xmlns=\"http://www.w3.org/2000/svg\" height=\"24px\" viewBox=\"0 -960 960 960\">\n",
              "    <path d=\"M120-120v-720h720v720H120Zm60-500h600v-160H180v160Zm220 220h160v-160H400v160Zm0 220h160v-160H400v160ZM180-400h160v-160H180v160Zm440 0h160v-160H620v160ZM180-180h160v-160H180v160Zm440 0h160v-160H620v160Z\"/>\n",
              "  </svg>\n",
              "    </button>\n",
              "\n",
              "  <style>\n",
              "    .colab-df-container {\n",
              "      display:flex;\n",
              "      gap: 12px;\n",
              "    }\n",
              "\n",
              "    .colab-df-convert {\n",
              "      background-color: #E8F0FE;\n",
              "      border: none;\n",
              "      border-radius: 50%;\n",
              "      cursor: pointer;\n",
              "      display: none;\n",
              "      fill: #1967D2;\n",
              "      height: 32px;\n",
              "      padding: 0 0 0 0;\n",
              "      width: 32px;\n",
              "    }\n",
              "\n",
              "    .colab-df-convert:hover {\n",
              "      background-color: #E2EBFA;\n",
              "      box-shadow: 0px 1px 2px rgba(60, 64, 67, 0.3), 0px 1px 3px 1px rgba(60, 64, 67, 0.15);\n",
              "      fill: #174EA6;\n",
              "    }\n",
              "\n",
              "    .colab-df-buttons div {\n",
              "      margin-bottom: 4px;\n",
              "    }\n",
              "\n",
              "    [theme=dark] .colab-df-convert {\n",
              "      background-color: #3B4455;\n",
              "      fill: #D2E3FC;\n",
              "    }\n",
              "\n",
              "    [theme=dark] .colab-df-convert:hover {\n",
              "      background-color: #434B5C;\n",
              "      box-shadow: 0px 1px 3px 1px rgba(0, 0, 0, 0.15);\n",
              "      filter: drop-shadow(0px 1px 2px rgba(0, 0, 0, 0.3));\n",
              "      fill: #FFFFFF;\n",
              "    }\n",
              "  </style>\n",
              "\n",
              "    <script>\n",
              "      const buttonEl =\n",
              "        document.querySelector('#df-2a4e8d4f-b5fd-4325-97fa-c487de245e8b button.colab-df-convert');\n",
              "      buttonEl.style.display =\n",
              "        google.colab.kernel.accessAllowed ? 'block' : 'none';\n",
              "\n",
              "      async function convertToInteractive(key) {\n",
              "        const element = document.querySelector('#df-2a4e8d4f-b5fd-4325-97fa-c487de245e8b');\n",
              "        const dataTable =\n",
              "          await google.colab.kernel.invokeFunction('convertToInteractive',\n",
              "                                                    [key], {});\n",
              "        if (!dataTable) return;\n",
              "\n",
              "        const docLinkHtml = 'Like what you see? Visit the ' +\n",
              "          '<a target=\"_blank\" href=https://colab.research.google.com/notebooks/data_table.ipynb>data table notebook</a>'\n",
              "          + ' to learn more about interactive tables.';\n",
              "        element.innerHTML = '';\n",
              "        dataTable['output_type'] = 'display_data';\n",
              "        await google.colab.output.renderOutput(dataTable, element);\n",
              "        const docLink = document.createElement('div');\n",
              "        docLink.innerHTML = docLinkHtml;\n",
              "        element.appendChild(docLink);\n",
              "      }\n",
              "    </script>\n",
              "  </div>\n",
              "\n",
              "\n",
              "<div id=\"df-9e2995aa-a499-455c-b36c-44eee7412ede\">\n",
              "  <button class=\"colab-df-quickchart\" onclick=\"quickchart('df-9e2995aa-a499-455c-b36c-44eee7412ede')\"\n",
              "            title=\"Suggest charts\"\n",
              "            style=\"display:none;\">\n",
              "\n",
              "<svg xmlns=\"http://www.w3.org/2000/svg\" height=\"24px\"viewBox=\"0 0 24 24\"\n",
              "     width=\"24px\">\n",
              "    <g>\n",
              "        <path d=\"M19 3H5c-1.1 0-2 .9-2 2v14c0 1.1.9 2 2 2h14c1.1 0 2-.9 2-2V5c0-1.1-.9-2-2-2zM9 17H7v-7h2v7zm4 0h-2V7h2v10zm4 0h-2v-4h2v4z\"/>\n",
              "    </g>\n",
              "</svg>\n",
              "  </button>\n",
              "\n",
              "<style>\n",
              "  .colab-df-quickchart {\n",
              "      --bg-color: #E8F0FE;\n",
              "      --fill-color: #1967D2;\n",
              "      --hover-bg-color: #E2EBFA;\n",
              "      --hover-fill-color: #174EA6;\n",
              "      --disabled-fill-color: #AAA;\n",
              "      --disabled-bg-color: #DDD;\n",
              "  }\n",
              "\n",
              "  [theme=dark] .colab-df-quickchart {\n",
              "      --bg-color: #3B4455;\n",
              "      --fill-color: #D2E3FC;\n",
              "      --hover-bg-color: #434B5C;\n",
              "      --hover-fill-color: #FFFFFF;\n",
              "      --disabled-bg-color: #3B4455;\n",
              "      --disabled-fill-color: #666;\n",
              "  }\n",
              "\n",
              "  .colab-df-quickchart {\n",
              "    background-color: var(--bg-color);\n",
              "    border: none;\n",
              "    border-radius: 50%;\n",
              "    cursor: pointer;\n",
              "    display: none;\n",
              "    fill: var(--fill-color);\n",
              "    height: 32px;\n",
              "    padding: 0;\n",
              "    width: 32px;\n",
              "  }\n",
              "\n",
              "  .colab-df-quickchart:hover {\n",
              "    background-color: var(--hover-bg-color);\n",
              "    box-shadow: 0 1px 2px rgba(60, 64, 67, 0.3), 0 1px 3px 1px rgba(60, 64, 67, 0.15);\n",
              "    fill: var(--button-hover-fill-color);\n",
              "  }\n",
              "\n",
              "  .colab-df-quickchart-complete:disabled,\n",
              "  .colab-df-quickchart-complete:disabled:hover {\n",
              "    background-color: var(--disabled-bg-color);\n",
              "    fill: var(--disabled-fill-color);\n",
              "    box-shadow: none;\n",
              "  }\n",
              "\n",
              "  .colab-df-spinner {\n",
              "    border: 2px solid var(--fill-color);\n",
              "    border-color: transparent;\n",
              "    border-bottom-color: var(--fill-color);\n",
              "    animation:\n",
              "      spin 1s steps(1) infinite;\n",
              "  }\n",
              "\n",
              "  @keyframes spin {\n",
              "    0% {\n",
              "      border-color: transparent;\n",
              "      border-bottom-color: var(--fill-color);\n",
              "      border-left-color: var(--fill-color);\n",
              "    }\n",
              "    20% {\n",
              "      border-color: transparent;\n",
              "      border-left-color: var(--fill-color);\n",
              "      border-top-color: var(--fill-color);\n",
              "    }\n",
              "    30% {\n",
              "      border-color: transparent;\n",
              "      border-left-color: var(--fill-color);\n",
              "      border-top-color: var(--fill-color);\n",
              "      border-right-color: var(--fill-color);\n",
              "    }\n",
              "    40% {\n",
              "      border-color: transparent;\n",
              "      border-right-color: var(--fill-color);\n",
              "      border-top-color: var(--fill-color);\n",
              "    }\n",
              "    60% {\n",
              "      border-color: transparent;\n",
              "      border-right-color: var(--fill-color);\n",
              "    }\n",
              "    80% {\n",
              "      border-color: transparent;\n",
              "      border-right-color: var(--fill-color);\n",
              "      border-bottom-color: var(--fill-color);\n",
              "    }\n",
              "    90% {\n",
              "      border-color: transparent;\n",
              "      border-bottom-color: var(--fill-color);\n",
              "    }\n",
              "  }\n",
              "</style>\n",
              "\n",
              "  <script>\n",
              "    async function quickchart(key) {\n",
              "      const quickchartButtonEl =\n",
              "        document.querySelector('#' + key + ' button');\n",
              "      quickchartButtonEl.disabled = true;  // To prevent multiple clicks.\n",
              "      quickchartButtonEl.classList.add('colab-df-spinner');\n",
              "      try {\n",
              "        const charts = await google.colab.kernel.invokeFunction(\n",
              "            'suggestCharts', [key], {});\n",
              "      } catch (error) {\n",
              "        console.error('Error during call to suggestCharts:', error);\n",
              "      }\n",
              "      quickchartButtonEl.classList.remove('colab-df-spinner');\n",
              "      quickchartButtonEl.classList.add('colab-df-quickchart-complete');\n",
              "    }\n",
              "    (() => {\n",
              "      let quickchartButtonEl =\n",
              "        document.querySelector('#df-9e2995aa-a499-455c-b36c-44eee7412ede button');\n",
              "      quickchartButtonEl.style.display =\n",
              "        google.colab.kernel.accessAllowed ? 'block' : 'none';\n",
              "    })();\n",
              "  </script>\n",
              "</div>\n",
              "\n",
              "    </div>\n",
              "  </div>\n"
            ],
            "application/vnd.google.colaboratory.intrinsic+json": {
              "type": "dataframe",
              "summary": "{\n  \"name\": \"imdb_reviews\",\n  \"rows\": 5,\n  \"fields\": [\n    {\n      \"column\": \"review\",\n      \"properties\": {\n        \"dtype\": \"string\",\n        \"num_unique_values\": 5,\n        \"samples\": [\n          \"I will admit that I'm only a college student at this present time, an English major at that. At the time I saw this film I was a high school student--I want to say junior year but it may have been senior, hard to remember. My experience with quantum physics goes pretty much to my honors physics course, an interest in quantum mechanics that has led me to read up on the subject in a number of books on the theoretical aspects of the field as well as any article I can find in Discover and the like. I'm not a PhD by any means.<br /><br />That said...<br /><br />This movie is simply terrible. It's designed to appeal to the scientific mind of the average New Age guru who desperately wants to believe in how special everybody is. My mother is such a person and ever since she's seen this movie she's tried to get all her friends to see it and bought a copy of the film. I attempted to point out the various flaws and problems I'd seen with the films logic and science--and they are numerous--and she dismissed my claims because \\\"oh, so a high school student knows more than all those people with PhDs.\\\" In this case, apparently so.<br /><br />Leaving behind the fact that earning a PhD doesn't necessarily require that a person be correct or, in fact, intelligent. Leaving behind the fact that my basic understanding of physics is enough to debunk half the film. Leaving that behind, the film makers completely manipulated their interviews with at least one of the participants to make it appear that he supported their beliefs when, in fact, he completely opposed them.<br /><br />I could go on and on but I think intuitor did a really good job of debunking the film so feel free to read that if you care to do so.<br /><br />http://www.intuitor.com/moviephysics/bleep.html\",\n          \"\\\"Showtime\\\" is a funny film starring funnymen Robert DeNiro (Meet the Parents,A Bronx Tale) and Eddie Murphy (Shrek, Dr. Dolittle). The story is this: In the beginning of the movie detective Mitch (Robert DeNiro) and another detective go into a tv store trying to bust some criminals. When the cops arrive, Tray(Eddie Murphy)a cop, tries to arrest Mitch not knowing he's a cop. During this scene loads of funny things happen which catch the eye of tv producer Chase Ritz. She is so excited about their adventures together, she decides to make a tv show called \\\"Showtime\\\" starring Tray (the cop) and Mitch (the detective). But that's just the funny part. The rest is strictly suspense and action. There is a foreign man who is selling and making extremely dangerous guns. While playing LAPD on the show and doing it in real life, DeNiro and Murphy have quite an adventure in this story. On a scale of 1-10, I give it a seven or 8.\",\n          \"This movie was not only disappointing to the horror/suspense film lover, it was disappointing to anyone who sees it. WoW. I thought that this film might be funny because the guy with the huge head. However, it was filled with long and drawn out conversation that wasn't needed. There was so much sex that I hate women and men now. This film was not only boring, but there was no substance. Wow. Wow. On to of all this, each scene looks like it was light from a single light bulb, and I think they used the same set for two different lawyers, a restaurant, and an airport. This movie is not for the movie lover who loves bad movies because in the end, it feels likes wasted time. See the movie!<br /><br />-party\"\n        ],\n        \"semantic_type\": \"\",\n        \"description\": \"\"\n      }\n    },\n    {\n      \"column\": \"sentiment\",\n      \"properties\": {\n        \"dtype\": \"category\",\n        \"num_unique_values\": 2,\n        \"samples\": [\n          \"negative\",\n          \"positive\"\n        ],\n        \"semantic_type\": \"\",\n        \"description\": \"\"\n      }\n    }\n  ]\n}"
            }
          },
          "metadata": {},
          "execution_count": 3
        }
      ]
    },
    {
      "cell_type": "markdown",
      "source": [
        "### Visualizing Class Distribution\n",
        "Here, a bar chart is generated to depict the distribution of positive and negative reviews within the dataset, allowing for a quick assessment of class balance.\n"
      ],
      "metadata": {
        "id": "yVObDrrzFnSI"
      },
      "id": "yVObDrrzFnSI"
    },
    {
      "cell_type": "code",
      "source": [
        "# Function to visualize the distribution of positive and negative reviews\n",
        "def plot_sentiment_distribution(dataset, label_column):\n",
        "    label_counts = dataset[label_column].value_counts()\n",
        "    total_labels = len(dataset)\n",
        "    label_percentages = (label_counts / total_labels * 100).round(2)\n",
        "\n",
        "    plt.figure(figsize=(6, 4))\n",
        "    sns.barplot(x=label_percentages.index, y=label_percentages.values, palette=\"pastel\", edgecolor='black')\n",
        "\n",
        "    for index, percentage in enumerate(label_percentages):\n",
        "        plt.text(index, percentage + 0.5, f\"{percentage}%\", ha='center', fontsize=10)\n",
        "\n",
        "    plt.title('Sentiment Class Distribution', fontsize=14, fontweight='bold')\n",
        "    plt.xlabel('Sentiment Labels', fontsize=12)\n",
        "    plt.ylabel('Percentage (%)', fontsize=12)\n",
        "    plt.grid(axis='y', linestyle='--', alpha=0.7)\n",
        "    plt.tight_layout()\n",
        "    plt.show()\n",
        "\n",
        "# Plot the sentiment distribution\n",
        "plot_sentiment_distribution(imdb_reviews, 'sentiment')"
      ],
      "metadata": {
        "colab": {
          "base_uri": "https://localhost:8080/",
          "height": 407
        },
        "id": "hDjHuChvFvWY",
        "outputId": "5ed75ff3-4a21-42a1-bf63-a08c4119ccae"
      },
      "id": "hDjHuChvFvWY",
      "execution_count": 4,
      "outputs": [
        {
          "output_type": "display_data",
          "data": {
            "text/plain": [
              "<Figure size 600x400 with 1 Axes>"
            ],
            "image/png": "[encoded data removed]"
          },
          "metadata": {}
        }
      ]
    },
    {
      "cell_type": "markdown",
      "source": [
        "## Data Cleaning and Preprocessing\n",
        "This phase involves cleansing the text data by eliminating unwanted characters (e.g., HTML tags, special symbols, extra spaces), converting text to lowercase, and normalizing words to enhance machine learning model comprehension.\n",
        "\n",
        "### Stopword Removal, Lemmatization, and Stemming:\n",
        "We preprocess the text data by removing stopwords (common words like \"is,\" \"and,\" \"the\" that don’t add significant meaning), reducing words to their root forms using lemmatization, and simplifying them further with stemming. This helps in cleaning the text and standardizing it for better model performance."
      ],
      "metadata": {
        "id": "ao9yjkZ5F6Fn"
      },
      "id": "ao9yjkZ5F6Fn"
    },
    {
      "cell_type": "code",
      "source": [
        "import pandas as pd\n",
        "import matplotlib.pyplot as plt\n",
        "import seaborn as sns\n",
        "import nltk\n",
        "import re\n"
      ],
      "metadata": {
        "id": "z-FtYQ56GESG"
      },
      "id": "z-FtYQ56GESG",
      "execution_count": 5,
      "outputs": []
    },
    {
      "cell_type": "code",
      "source": [
        "# Import necessary libraries for lemmatization and stopwords\n",
        "from nltk.corpus import stopwords\n",
        "from nltk.stem import WordNetLemmatizer\n",
        "import nltk\n",
        "\n",
        "# Download the required NLTK resources\n",
        "nltk.download('stopwords')\n",
        "nltk.download('wordnet')\n",
        "\n",
        "# Initialize the lemmatizer and stopwords set\n",
        "lemmatizer = WordNetLemmatizer()\n",
        "stop_words = set(stopwords.words('english'))"
      ],
      "metadata": {
        "colab": {
          "base_uri": "https://localhost:8080/"
        },
        "id": "6OG2dkvSNw9X",
        "outputId": "0d3050c0-75f9-433f-c2bd-7bbc1e8292bf"
      },
      "id": "6OG2dkvSNw9X",
      "execution_count": 6,
      "outputs": [
        {
          "output_type": "stream",
          "name": "stderr",
          "text": [
            "[nltk_data] Downloading package stopwords to /root/nltk_data...\n",
            "[nltk_data]   Unzipping corpora/stopwords.zip.\n",
            "[nltk_data] Downloading package wordnet to /root/nltk_data...\n"
          ]
        }
      ]
    },
    {
      "cell_type": "code",
      "source": [
        "# Updated text cleaning function\n",
        "def clean_text(text):\n",
        "    \"\"\"\n",
        "    Perform text preprocessing including:\n",
        "    - Removing HTML tags\n",
        "    - Removing special characters, numbers, and extra spaces\n",
        "    - Converting to lowercase\n",
        "    - Removing stopwords\n",
        "    - Applying lemmatization\n",
        "    \"\"\"\n",
        "    # Remove HTML tags\n",
        "    text = re.sub(r'<.*?>', '', text)\n",
        "\n",
        "    # Removal of special characters and numbers keeping only alphabets and spaces\n",
        "    text = re.sub(r'[^a-zA-Z\\s]', '', text)\n",
        "\n",
        "    # Removing extra spaces\n",
        "    text = re.sub(r'\\s+', ' ', text).strip()\n",
        "\n",
        "    # Converted to lowercase\n",
        "    text = text.lower()\n",
        "\n",
        "    # Tokenizing the text\n",
        "    words = text.split()\n",
        "\n",
        "    # Removing the stopwords and applying lemmatization\n",
        "    cleaned_words = [lemmatizer.lemmatize(word) for word in words if word not in stop_words]\n",
        "\n",
        "    # Return the cleaned text\n",
        "    return ' '.join(cleaned_words)\n",
        "\n",
        "# Testing the update cleaning function\n",
        "sample_review = \"I loved this movie! It was amazing. Highly recommend it.\"\n",
        "print(\"Sample cleaned text:\", clean_text(sample_review))"
      ],
      "metadata": {
        "colab": {
          "base_uri": "https://localhost:8080/"
        },
        "id": "CsiE4sMBNah1",
        "outputId": "6589fe17-4abc-44eb-9b44-df39492ad04a"
      },
      "id": "CsiE4sMBNah1",
      "execution_count": 7,
      "outputs": [
        {
          "output_type": "stream",
          "name": "stdout",
          "text": [
            "Sample cleaned text: loved movie amazing highly recommend\n"
          ]
        }
      ]
    },
    {
      "cell_type": "code",
      "source": [
        "# Apply the updated cleaning function to the 'review' column\n",
        "imdb_reviews['cleaned_reviews'] = imdb_reviews['review'].apply(clean_text)\n",
        "\n",
        "# Verify the result\n",
        "print(imdb_reviews[['review', 'cleaned_reviews']].head())\n"
      ],
      "metadata": {
        "colab": {
          "base_uri": "https://localhost:8080/"
        },
        "id": "c54DA63xJX8K",
        "outputId": "eed025e9-00ee-4c55-ee6e-f0667d8c4128"
      },
      "id": "c54DA63xJX8K",
      "execution_count": 8,
      "outputs": [
        {
          "output_type": "stream",
          "name": "stdout",
          "text": [
            "                                              review  \\\n",
            "0  One of the other reviewers has mentioned that ...   \n",
            "1  A wonderful little production. <br /><br />The...   \n",
            "2  I thought this was a wonderful way to spend ti...   \n",
            "3  Basically there's a family where a little boy ...   \n",
            "4  Petter Mattei's \"Love in the Time of Money\" is...   \n",
            "\n",
            "                                     cleaned_reviews  \n",
            "0  one reviewer mentioned watching oz episode you...  \n",
            "1  wonderful little production filming technique ...  \n",
            "2  thought wonderful way spend time hot summer we...  \n",
            "3  basically there family little boy jake think t...  \n",
            "4  petter matteis love time money visually stunni...  \n"
          ]
        }
      ]
    },
    {
      "cell_type": "markdown",
      "source": [
        "### Vectorization\n",
        "The cleaned text is transformed into numerical representations utilizing the TF-IDF technique, facilitating quantitative analysis by machine learning algorithms."
      ],
      "metadata": {
        "id": "njTzTom-KOt3"
      },
      "id": "njTzTom-KOt3"
    },
    {
      "cell_type": "code",
      "source": [
        "# To covert the text into numerical representation\n",
        "from sklearn.feature_extraction.text import TfidfVectorizer\n",
        "\n",
        "# Limit vocabulary to the top 5000 words\n",
        "tfidf_encoder = TfidfVectorizer(max_features=5000)\n",
        "review_vectors = tfidf_encoder.fit_transform(imdb_reviews['cleaned_reviews']).toarray() # Convert text to numerical representation\n",
        "\n",
        "# Convert sentiment labels into numerical values (1 for positive, 0 for negative) for model training\n",
        "sentiment_values = imdb_reviews['sentiment'].apply(lambda sentiment: 1 if sentiment == 'positive' else 0)"
      ],
      "metadata": {
        "id": "TNTFRTqUKYGF"
      },
      "id": "TNTFRTqUKYGF",
      "execution_count": 9,
      "outputs": []
    },
    {
      "cell_type": "markdown",
      "source": [
        "### Split Dataset\n",
        "Dividing dataset into test and training"
      ],
      "metadata": {
        "id": "EP3tBj9FN6wY"
      },
      "id": "EP3tBj9FN6wY"
    },
    {
      "cell_type": "code",
      "source": [
        "# Split data into training (80%) and testing (20%) sets\n",
        "X_training_set, X_testing_set, y_training_labels, y_testing_labels = train_test_split(\n",
        "    review_vectors, sentiment_values, test_size=0.2, random_state=42\n",
        ")\n"
      ],
      "metadata": {
        "id": "P-BhjAB-OD7I"
      },
      "id": "P-BhjAB-OD7I",
      "execution_count": 10,
      "outputs": []
    },
    {
      "cell_type": "markdown",
      "source": [
        "### Reusable Function for Training and Evaluation:\n",
        "This cell defines a function that trains a given model on the training data and evaluates its accuracy on the test data. By using this function, we avoid repeating the same code for each model, making the workflow cleaner and more efficient.\n"
      ],
      "metadata": {
        "id": "9_TCJ5dmTOwh"
      },
      "id": "9_TCJ5dmTOwh"
    },
    {
      "cell_type": "code",
      "source": [
        "# Defining a reusable function to train and evaluate models efficiently\n",
        "def fit_and_check_model(estimator, train_features, train_targets, test_features, test_targets):\n",
        "    \"\"\"\n",
        "    Fit a machine learning model to the training set and measure its accuracy.\n",
        "\n",
        "    Parameters:\n",
        "    estimator: The machine learning model to fit.\n",
        "    train_features, train_targets: The training dataset and labels.\n",
        "    test_features, test_targets: The test dataset and corresponding labels.\n",
        "\n",
        "    Returns:\n",
        "    The accuracy rate of the model on the provided test set.\n",
        "    \"\"\"\n",
        "    estimator.fit(train_features, train_targets) # Train the model\n",
        "    test_predictions = estimator.predict(test_features) # Predict on test data\n",
        "    return accuracy_score(test_targets, test_predictions) # Calculate accuracy\n"
      ],
      "metadata": {
        "id": "yCvNSKE9TNMG"
      },
      "id": "yCvNSKE9TNMG",
      "execution_count": 11,
      "outputs": []
    },
    {
      "cell_type": "markdown",
      "source": [
        "### Naive Bayes\n",
        "This cell trains the Naive Bayes classifier on the training data and calculates its accuracy on the test data. Naive Bayes is a simple yet effective model for text classification tasks like sentiment analysis.\n"
      ],
      "metadata": {
        "id": "OOxmOdtoTSr1"
      },
      "id": "OOxmOdtoTSr1"
    },
    {
      "cell_type": "code",
      "source": [
        "# Train and evaluate Naive Bayes\n",
        "from sklearn.metrics import accuracy_score\n",
        "nb_classifier = MultinomialNB()\n",
        "nb_accuracy = fit_and_check_model(nb_classifier, X_training_set, y_training_labels, X_testing_set, y_testing_labels)\n",
        "print(f\"Naive Bayes Accuracy: {nb_accuracy:.2f}\")\n"
      ],
      "metadata": {
        "colab": {
          "base_uri": "https://localhost:8080/"
        },
        "id": "r68JXYLrTQaG",
        "outputId": "abfb4101-b1b0-4145-af0e-fea96c82c8d6"
      },
      "id": "r68JXYLrTQaG",
      "execution_count": 12,
      "outputs": [
        {
          "output_type": "stream",
          "name": "stdout",
          "text": [
            "Naive Bayes Accuracy: 0.85\n"
          ]
        }
      ]
    },
    {
      "cell_type": "markdown",
      "source": [
        "### Logistic Regression\n",
        "Apply this linear classifier to the dataset and calculate performance metrics to validate its predictive strength."
      ],
      "metadata": {
        "id": "VRn0flkATTyg"
      },
      "id": "VRn0flkATTyg"
    },
    {
      "cell_type": "code",
      "source": [
        "# Train and evaluate Logistic Regression\n",
        "from sklearn.metrics import accuracy_score\n",
        "logistic_regression_classifier = LogisticRegression(random_state=42)\n",
        "log_reg_accuracy = fit_and_check_model(logistic_regression_classifier, X_training_set, y_training_labels, X_testing_set, y_testing_labels)\n",
        "print(f\"Logistic Regression Accuracy: {log_reg_accuracy:.2f}\")\n"
      ],
      "metadata": {
        "colab": {
          "base_uri": "https://localhost:8080/"
        },
        "id": "_dIXmFu6TUgK",
        "outputId": "620e82a9-94da-4ae1-c95f-0abfb5c8f938"
      },
      "id": "_dIXmFu6TUgK",
      "execution_count": 13,
      "outputs": [
        {
          "output_type": "stream",
          "name": "stdout",
          "text": [
            "Logistic Regression Accuracy: 0.88\n"
          ]
        }
      ]
    },
    {
      "cell_type": "markdown",
      "source": [
        "### Decision Tree\n",
        "This cell trains the Decision Tree model, a flexible classifier that splits data based on features to make predictions. The model's accuracy is then evaluated."
      ],
      "metadata": {
        "id": "bSxVH4QCTVS1"
      },
      "id": "bSxVH4QCTVS1"
    },
    {
      "cell_type": "code",
      "source": [
        "# Train and evaluate Decision Tree\n",
        "from sklearn.metrics import accuracy_score\n",
        "\n",
        "decision_tree_classifier = DecisionTreeClassifier(random_state=42)\n",
        "dt_accuracy = fit_and_check_model(decision_tree_classifier, X_training_set, y_training_labels, X_testing_set, y_testing_labels)\n",
        "print(f\"Decision Tree Accuracy: {dt_accuracy:.2f}\")\n"
      ],
      "metadata": {
        "colab": {
          "base_uri": "https://localhost:8080/"
        },
        "id": "t5izQqakTWKj",
        "outputId": "2df55db3-28a4-4a0b-bad0-80cfb7e9423f"
      },
      "id": "t5izQqakTWKj",
      "execution_count": 14,
      "outputs": [
        {
          "output_type": "stream",
          "name": "stdout",
          "text": [
            "Decision Tree Accuracy: 0.72\n"
          ]
        }
      ]
    },
    {
      "cell_type": "markdown",
      "source": [
        "### Random Forest\n",
        "This cell trains the Random Forest model, an ensemble method that combines multiple decision trees to improve accuracy. The model's performance on the test set is displayed.\n",
        "\n"
      ],
      "metadata": {
        "id": "Ez2wJYKdTXZb"
      },
      "id": "Ez2wJYKdTXZb"
    },
    {
      "cell_type": "code",
      "source": [
        "# Train and evaluate Random Forest\n",
        "from sklearn.metrics import accuracy_score\n",
        "random_forest_classifier = RandomForestClassifier(random_state=42)\n",
        "rf_accuracy = fit_and_check_model(random_forest_classifier, X_training_set, y_training_labels, X_testing_set, y_testing_labels)\n",
        "print(f\"Random Forest Accuracy: {rf_accuracy:.2f}\")\n"
      ],
      "metadata": {
        "colab": {
          "base_uri": "https://localhost:8080/"
        },
        "id": "9B_Gszo-TYf_",
        "outputId": "711d30bc-9378-4dff-b9ad-7a96b309d648"
      },
      "id": "9B_Gszo-TYf_",
      "execution_count": 15,
      "outputs": [
        {
          "output_type": "stream",
          "name": "stdout",
          "text": [
            "Random Forest Accuracy: 0.85\n"
          ]
        }
      ]
    },
    {
      "cell_type": "markdown",
      "source": [
        "### K-Nearest Neighbors (KNN)\n",
        "This cell trains the K-Nearest Neighbors model, which predicts the class of a sample based on its nearest neighbors in the feature space. The accuracy score is calculated and displayed."
      ],
      "metadata": {
        "id": "Aab48yl1TQJd"
      },
      "id": "Aab48yl1TQJd"
    },
    {
      "cell_type": "code",
      "source": [
        "# Train and evaluate KNN\n",
        "\n",
        "from sklearn.neighbors import KNeighborsClassifier\n",
        "from sklearn.metrics import accuracy_score\n",
        "import math\n",
        "\n",
        "# Train and evaluate KNN\n",
        "knn_classifier = KNeighborsClassifier(n_neighbors=int(math.sqrt(len(X_training_set))))\n",
        "knn_accuracy = fit_and_check_model(knn_classifier, X_training_set, y_training_labels, X_testing_set, y_testing_labels)\n",
        "print(f\"KNN Model Accuracy: {knn_accuracy:.2f}\")\n"
      ],
      "metadata": {
        "colab": {
          "base_uri": "https://localhost:8080/"
        },
        "id": "QUU5rMhRWJua",
        "outputId": "b412664b-9d99-473c-f877-c0d4f717853a"
      },
      "id": "QUU5rMhRWJua",
      "execution_count": 16,
      "outputs": [
        {
          "output_type": "stream",
          "name": "stdout",
          "text": [
            "KNN Model Accuracy: 0.81\n"
          ]
        }
      ]
    },
    {
      "cell_type": "markdown",
      "source": [
        "\n",
        "## Model Comparison and Selection\n",
        "At this step, we train multiple machine learning models and test their performance to find the best one. By comparing accuracy scores, we identify the model that is most suitable for predicting sentiments in movie reviews. This ensures we select a model that works well with our dataset and provides reliable predictions.\n",
        "\n",
        "After training all the models, this cell consolidates their accuracy scores into a table for easy comparison. The table ranks models by accuracy to highlight the best-performing one."
      ],
      "metadata": {
        "id": "oDP5nxvZTM-C"
      },
      "id": "oDP5nxvZTM-C"
    },
    {
      "cell_type": "code",
      "source": [
        "# Importing required libraries\n",
        "from sklearn.naive_bayes import MultinomialNB\n",
        "from sklearn.linear_model import LogisticRegression\n",
        "from sklearn.tree import DecisionTreeClassifier\n",
        "from sklearn.ensemble import RandomForestClassifier\n",
        "from sklearn.neighbors import KNeighborsClassifier\n",
        "from sklearn.metrics import accuracy_score  # Import accuracy_score\n",
        "import pandas as pd\n",
        "import math\n"
      ],
      "metadata": {
        "id": "sIpy1Qdo2mpu"
      },
      "id": "sIpy1Qdo2mpu",
      "execution_count": 17,
      "outputs": []
    },
    {
      "cell_type": "code",
      "source": [
        "# Consolidate model accuracies\n",
        "model_accuracies = {\n",
        "    'Naive Bayes': nb_accuracy,\n",
        "    'Logistic Regression': log_reg_accuracy,\n",
        "    'Decision Tree': dt_accuracy,\n",
        "    'Random Forest': rf_accuracy,\n",
        "    'KNN': knn_accuracy\n",
        "}\n",
        "\n",
        "# Create a DataFrame to display the results\n",
        "model_performance_df = pd.DataFrame({\n",
        "    'Model': list(model_accuracies.keys()),\n",
        "    'Accuracy': [round(acc, 2) for acc in model_accuracies.values()]\n",
        "}).sort_values(by='Accuracy', ascending=False).set_index('Model')\n",
        "\n",
        "# Display the model performance DataFrame\n",
        "print(model_performance_df)\n"
      ],
      "metadata": {
        "id": "D_yUg8CsWWQO",
        "colab": {
          "base_uri": "https://localhost:8080/"
        },
        "outputId": "fc6a49b4-97d4-408f-b1f6-47daf7e43883"
      },
      "id": "D_yUg8CsWWQO",
      "execution_count": 18,
      "outputs": [
        {
          "output_type": "stream",
          "name": "stdout",
          "text": [
            "                     Accuracy\n",
            "Model                        \n",
            "Logistic Regression      0.88\n",
            "Naive Bayes              0.85\n",
            "Random Forest            0.85\n",
            "KNN                      0.81\n",
            "Decision Tree            0.72\n"
          ]
        }
      ]
    },
    {
      "cell_type": "markdown",
      "id": "e54e08df-d823-4715-a2cd-57e4f26d1b7f",
      "metadata": {
        "id": "e54e08df-d823-4715-a2cd-57e4f26d1b7f"
      },
      "source": [
        "After testing all the models, we choose the one with the highest accuracy. By comparing models like Random Forest, Logistic Regression, and K-Nearest Neighbors, we find the best option for sentiment analysis. This helps us pick the model that gives the most dependable results."
      ]
    },
    {
      "cell_type": "code",
      "execution_count": 19,
      "id": "6753ada8-2046-4591-b190-77d1ae500f48",
      "metadata": {
        "id": "6753ada8-2046-4591-b190-77d1ae500f48",
        "outputId": "567ddfe2-dd28-4bf5-f16e-d96b43c4fb08",
        "colab": {
          "base_uri": "https://localhost:8080/",
          "height": 238
        }
      },
      "outputs": [
        {
          "output_type": "execute_result",
          "data": {
            "text/plain": [
              "                     Accuracy\n",
              "Model                        \n",
              "Logistic Regression      0.88\n",
              "Naive Bayes              0.85\n",
              "Random Forest            0.85\n",
              "KNN                      0.81\n",
              "Decision Tree            0.72"
            ],
            "text/html": [
              "\n",
              "  <div id=\"df-e608746c-a5ef-4f48-8946-e7fa1bb47a2e\" class=\"colab-df-container\">\n",
              "    <div>\n",
              "<style scoped>\n",
              "    .dataframe tbody tr th:only-of-type {\n",
              "        vertical-align: middle;\n",
              "    }\n",
              "\n",
              "    .dataframe tbody tr th {\n",
              "        vertical-align: top;\n",
              "    }\n",
              "\n",
              "    .dataframe thead th {\n",
              "        text-align: right;\n",
              "    }\n",
              "</style>\n",
              "<table border=\"1\" class=\"dataframe\">\n",
              "  <thead>\n",
              "    <tr style=\"text-align: right;\">\n",
              "      <th></th>\n",
              "      <th>Accuracy</th>\n",
              "    </tr>\n",
              "    <tr>\n",
              "      <th>Model</th>\n",
              "      <th></th>\n",
              "    </tr>\n",
              "  </thead>\n",
              "  <tbody>\n",
              "    <tr>\n",
              "      <th>Logistic Regression</th>\n",
              "      <td>0.88</td>\n",
              "    </tr>\n",
              "    <tr>\n",
              "      <th>Naive Bayes</th>\n",
              "      <td>0.85</td>\n",
              "    </tr>\n",
              "    <tr>\n",
              "      <th>Random Forest</th>\n",
              "      <td>0.85</td>\n",
              "    </tr>\n",
              "    <tr>\n",
              "      <th>KNN</th>\n",
              "      <td>0.81</td>\n",
              "    </tr>\n",
              "    <tr>\n",
              "      <th>Decision Tree</th>\n",
              "      <td>0.72</td>\n",
              "    </tr>\n",
              "  </tbody>\n",
              "</table>\n",
              "</div>\n",
              "    <div class=\"colab-df-buttons\">\n",
              "\n",
              "  <div class=\"colab-df-container\">\n",
              "    <button class=\"colab-df-convert\" onclick=\"convertToInteractive('df-e608746c-a5ef-4f48-8946-e7fa1bb47a2e')\"\n",
              "            title=\"Convert this dataframe to an interactive table.\"\n",
              "            style=\"display:none;\">\n",
              "\n",
              "  <svg xmlns=\"http://www.w3.org/2000/svg\" height=\"24px\" viewBox=\"0 -960 960 960\">\n",
              "    <path d=\"M120-120v-720h720v720H120Zm60-500h600v-160H180v160Zm220 220h160v-160H400v160Zm0 220h160v-160H400v160ZM180-400h160v-160H180v160Zm440 0h160v-160H620v160ZM180-180h160v-160H180v160Zm440 0h160v-160H620v160Z\"/>\n",
              "  </svg>\n",
              "    </button>\n",
              "\n",
              "  <style>\n",
              "    .colab-df-container {\n",
              "      display:flex;\n",
              "      gap: 12px;\n",
              "    }\n",
              "\n",
              "    .colab-df-convert {\n",
              "      background-color: #E8F0FE;\n",
              "      border: none;\n",
              "      border-radius: 50%;\n",
              "      cursor: pointer;\n",
              "      display: none;\n",
              "      fill: #1967D2;\n",
              "      height: 32px;\n",
              "      padding: 0 0 0 0;\n",
              "      width: 32px;\n",
              "    }\n",
              "\n",
              "    .colab-df-convert:hover {\n",
              "      background-color: #E2EBFA;\n",
              "      box-shadow: 0px 1px 2px rgba(60, 64, 67, 0.3), 0px 1px 3px 1px rgba(60, 64, 67, 0.15);\n",
              "      fill: #174EA6;\n",
              "    }\n",
              "\n",
              "    .colab-df-buttons div {\n",
              "      margin-bottom: 4px;\n",
              "    }\n",
              "\n",
              "    [theme=dark] .colab-df-convert {\n",
              "      background-color: #3B4455;\n",
              "      fill: #D2E3FC;\n",
              "    }\n",
              "\n",
              "    [theme=dark] .colab-df-convert:hover {\n",
              "      background-color: #434B5C;\n",
              "      box-shadow: 0px 1px 3px 1px rgba(0, 0, 0, 0.15);\n",
              "      filter: drop-shadow(0px 1px 2px rgba(0, 0, 0, 0.3));\n",
              "      fill: #FFFFFF;\n",
              "    }\n",
              "  </style>\n",
              "\n",
              "    <script>\n",
              "      const buttonEl =\n",
              "        document.querySelector('#df-e608746c-a5ef-4f48-8946-e7fa1bb47a2e button.colab-df-convert');\n",
              "      buttonEl.style.display =\n",
              "        google.colab.kernel.accessAllowed ? 'block' : 'none';\n",
              "\n",
              "      async function convertToInteractive(key) {\n",
              "        const element = document.querySelector('#df-e608746c-a5ef-4f48-8946-e7fa1bb47a2e');\n",
              "        const dataTable =\n",
              "          await google.colab.kernel.invokeFunction('convertToInteractive',\n",
              "                                                    [key], {});\n",
              "        if (!dataTable) return;\n",
              "\n",
              "        const docLinkHtml = 'Like what you see? Visit the ' +\n",
              "          '<a target=\"_blank\" href=https://colab.research.google.com/notebooks/data_table.ipynb>data table notebook</a>'\n",
              "          + ' to learn more about interactive tables.';\n",
              "        element.innerHTML = '';\n",
              "        dataTable['output_type'] = 'display_data';\n",
              "        await google.colab.output.renderOutput(dataTable, element);\n",
              "        const docLink = document.createElement('div');\n",
              "        docLink.innerHTML = docLinkHtml;\n",
              "        element.appendChild(docLink);\n",
              "      }\n",
              "    </script>\n",
              "  </div>\n",
              "\n",
              "\n",
              "<div id=\"df-bb1a0e69-75f5-4217-b52b-9c59c9ca7d7c\">\n",
              "  <button class=\"colab-df-quickchart\" onclick=\"quickchart('df-bb1a0e69-75f5-4217-b52b-9c59c9ca7d7c')\"\n",
              "            title=\"Suggest charts\"\n",
              "            style=\"display:none;\">\n",
              "\n",
              "<svg xmlns=\"http://www.w3.org/2000/svg\" height=\"24px\"viewBox=\"0 0 24 24\"\n",
              "     width=\"24px\">\n",
              "    <g>\n",
              "        <path d=\"M19 3H5c-1.1 0-2 .9-2 2v14c0 1.1.9 2 2 2h14c1.1 0 2-.9 2-2V5c0-1.1-.9-2-2-2zM9 17H7v-7h2v7zm4 0h-2V7h2v10zm4 0h-2v-4h2v4z\"/>\n",
              "    </g>\n",
              "</svg>\n",
              "  </button>\n",
              "\n",
              "<style>\n",
              "  .colab-df-quickchart {\n",
              "      --bg-color: #E8F0FE;\n",
              "      --fill-color: #1967D2;\n",
              "      --hover-bg-color: #E2EBFA;\n",
              "      --hover-fill-color: #174EA6;\n",
              "      --disabled-fill-color: #AAA;\n",
              "      --disabled-bg-color: #DDD;\n",
              "  }\n",
              "\n",
              "  [theme=dark] .colab-df-quickchart {\n",
              "      --bg-color: #3B4455;\n",
              "      --fill-color: #D2E3FC;\n",
              "      --hover-bg-color: #434B5C;\n",
              "      --hover-fill-color: #FFFFFF;\n",
              "      --disabled-bg-color: #3B4455;\n",
              "      --disabled-fill-color: #666;\n",
              "  }\n",
              "\n",
              "  .colab-df-quickchart {\n",
              "    background-color: var(--bg-color);\n",
              "    border: none;\n",
              "    border-radius: 50%;\n",
              "    cursor: pointer;\n",
              "    display: none;\n",
              "    fill: var(--fill-color);\n",
              "    height: 32px;\n",
              "    padding: 0;\n",
              "    width: 32px;\n",
              "  }\n",
              "\n",
              "  .colab-df-quickchart:hover {\n",
              "    background-color: var(--hover-bg-color);\n",
              "    box-shadow: 0 1px 2px rgba(60, 64, 67, 0.3), 0 1px 3px 1px rgba(60, 64, 67, 0.15);\n",
              "    fill: var(--button-hover-fill-color);\n",
              "  }\n",
              "\n",
              "  .colab-df-quickchart-complete:disabled,\n",
              "  .colab-df-quickchart-complete:disabled:hover {\n",
              "    background-color: var(--disabled-bg-color);\n",
              "    fill: var(--disabled-fill-color);\n",
              "    box-shadow: none;\n",
              "  }\n",
              "\n",
              "  .colab-df-spinner {\n",
              "    border: 2px solid var(--fill-color);\n",
              "    border-color: transparent;\n",
              "    border-bottom-color: var(--fill-color);\n",
              "    animation:\n",
              "      spin 1s steps(1) infinite;\n",
              "  }\n",
              "\n",
              "  @keyframes spin {\n",
              "    0% {\n",
              "      border-color: transparent;\n",
              "      border-bottom-color: var(--fill-color);\n",
              "      border-left-color: var(--fill-color);\n",
              "    }\n",
              "    20% {\n",
              "      border-color: transparent;\n",
              "      border-left-color: var(--fill-color);\n",
              "      border-top-color: var(--fill-color);\n",
              "    }\n",
              "    30% {\n",
              "      border-color: transparent;\n",
              "      border-left-color: var(--fill-color);\n",
              "      border-top-color: var(--fill-color);\n",
              "      border-right-color: var(--fill-color);\n",
              "    }\n",
              "    40% {\n",
              "      border-color: transparent;\n",
              "      border-right-color: var(--fill-color);\n",
              "      border-top-color: var(--fill-color);\n",
              "    }\n",
              "    60% {\n",
              "      border-color: transparent;\n",
              "      border-right-color: var(--fill-color);\n",
              "    }\n",
              "    80% {\n",
              "      border-color: transparent;\n",
              "      border-right-color: var(--fill-color);\n",
              "      border-bottom-color: var(--fill-color);\n",
              "    }\n",
              "    90% {\n",
              "      border-color: transparent;\n",
              "      border-bottom-color: var(--fill-color);\n",
              "    }\n",
              "  }\n",
              "</style>\n",
              "\n",
              "  <script>\n",
              "    async function quickchart(key) {\n",
              "      const quickchartButtonEl =\n",
              "        document.querySelector('#' + key + ' button');\n",
              "      quickchartButtonEl.disabled = true;  // To prevent multiple clicks.\n",
              "      quickchartButtonEl.classList.add('colab-df-spinner');\n",
              "      try {\n",
              "        const charts = await google.colab.kernel.invokeFunction(\n",
              "            'suggestCharts', [key], {});\n",
              "      } catch (error) {\n",
              "        console.error('Error during call to suggestCharts:', error);\n",
              "      }\n",
              "      quickchartButtonEl.classList.remove('colab-df-spinner');\n",
              "      quickchartButtonEl.classList.add('colab-df-quickchart-complete');\n",
              "    }\n",
              "    (() => {\n",
              "      let quickchartButtonEl =\n",
              "        document.querySelector('#df-bb1a0e69-75f5-4217-b52b-9c59c9ca7d7c button');\n",
              "      quickchartButtonEl.style.display =\n",
              "        google.colab.kernel.accessAllowed ? 'block' : 'none';\n",
              "    })();\n",
              "  </script>\n",
              "</div>\n",
              "\n",
              "  <div id=\"id_5cf2bc98-3c6c-4ed4-b66b-01aaa36e45e7\">\n",
              "    <style>\n",
              "      .colab-df-generate {\n",
              "        background-color: #E8F0FE;\n",
              "        border: none;\n",
              "        border-radius: 50%;\n",
              "        cursor: pointer;\n",
              "        display: none;\n",
              "        fill: #1967D2;\n",
              "        height: 32px;\n",
              "        padding: 0 0 0 0;\n",
              "        width: 32px;\n",
              "      }\n",
              "\n",
              "      .colab-df-generate:hover {\n",
              "        background-color: #E2EBFA;\n",
              "        box-shadow: 0px 1px 2px rgba(60, 64, 67, 0.3), 0px 1px 3px 1px rgba(60, 64, 67, 0.15);\n",
              "        fill: #174EA6;\n",
              "      }\n",
              "\n",
              "      [theme=dark] .colab-df-generate {\n",
              "        background-color: #3B4455;\n",
              "        fill: #D2E3FC;\n",
              "      }\n",
              "\n",
              "      [theme=dark] .colab-df-generate:hover {\n",
              "        background-color: #434B5C;\n",
              "        box-shadow: 0px 1px 3px 1px rgba(0, 0, 0, 0.15);\n",
              "        filter: drop-shadow(0px 1px 2px rgba(0, 0, 0, 0.3));\n",
              "        fill: #FFFFFF;\n",
              "      }\n",
              "    </style>\n",
              "    <button class=\"colab-df-generate\" onclick=\"generateWithVariable('model_performance_df')\"\n",
              "            title=\"Generate code using this dataframe.\"\n",
              "            style=\"display:none;\">\n",
              "\n",
              "  <svg xmlns=\"http://www.w3.org/2000/svg\" height=\"24px\"viewBox=\"0 0 24 24\"\n",
              "       width=\"24px\">\n",
              "    <path d=\"M7,19H8.4L18.45,9,17,7.55,7,17.6ZM5,21V16.75L18.45,3.32a2,2,0,0,1,2.83,0l1.4,1.43a1.91,1.91,0,0,1,.58,1.4,1.91,1.91,0,0,1-.58,1.4L9.25,21ZM18.45,9,17,7.55Zm-12,3A5.31,5.31,0,0,0,4.9,8.1,5.31,5.31,0,0,0,1,6.5,5.31,5.31,0,0,0,4.9,4.9,5.31,5.31,0,0,0,6.5,1,5.31,5.31,0,0,0,8.1,4.9,5.31,5.31,0,0,0,12,6.5,5.46,5.46,0,0,0,6.5,12Z\"/>\n",
              "  </svg>\n",
              "    </button>\n",
              "    <script>\n",
              "      (() => {\n",
              "      const buttonEl =\n",
              "        document.querySelector('#id_5cf2bc98-3c6c-4ed4-b66b-01aaa36e45e7 button.colab-df-generate');\n",
              "      buttonEl.style.display =\n",
              "        google.colab.kernel.accessAllowed ? 'block' : 'none';\n",
              "\n",
              "      buttonEl.onclick = () => {\n",
              "        google.colab.notebook.generateWithVariable('model_performance_df');\n",
              "      }\n",
              "      })();\n",
              "    </script>\n",
              "  </div>\n",
              "\n",
              "    </div>\n",
              "  </div>\n"
            ],
            "application/vnd.google.colaboratory.intrinsic+json": {
              "type": "dataframe",
              "variable_name": "model_performance_df",
              "summary": "{\n  \"name\": \"model_performance_df\",\n  \"rows\": 5,\n  \"fields\": [\n    {\n      \"column\": \"Model\",\n      \"properties\": {\n        \"dtype\": \"string\",\n        \"num_unique_values\": 5,\n        \"samples\": [\n          \"Naive Bayes\",\n          \"Decision Tree\",\n          \"Random Forest\"\n        ],\n        \"semantic_type\": \"\",\n        \"description\": \"\"\n      }\n    },\n    {\n      \"column\": \"Accuracy\",\n      \"properties\": {\n        \"dtype\": \"number\",\n        \"std\": 0.06220932405998317,\n        \"min\": 0.72,\n        \"max\": 0.88,\n        \"num_unique_values\": 4,\n        \"samples\": [\n          0.85,\n          0.72,\n          0.88\n        ],\n        \"semantic_type\": \"\",\n        \"description\": \"\"\n      }\n    }\n  ]\n}"
            }
          },
          "metadata": {},
          "execution_count": 19
        }
      ],
      "source": [
        "\n",
        "# Display the model performance DataFrame\n",
        "model_performance_df\n"
      ]
    },
    {
      "cell_type": "markdown",
      "id": "27f95466-ad4e-409c-853d-b05f74219705",
      "metadata": {
        "id": "27f95466-ad4e-409c-853d-b05f74219705"
      },
      "source": [
        "### Selecting the best model\n",
        "This step identifies the model with the highest accuracy from the comparison table. It retrieves the best model's name and accuracy score, which are then used for final predictions.\n"
      ]
    },
    {
      "cell_type": "code",
      "execution_count": 20,
      "id": "d009ce3c-352e-4b51-b78b-28375406b94f",
      "metadata": {
        "id": "d009ce3c-352e-4b51-b78b-28375406b94f",
        "outputId": "106a51a7-fca8-45af-9376-dd8adfb80fbf",
        "colab": {
          "base_uri": "https://localhost:8080/"
        }
      },
      "outputs": [
        {
          "output_type": "stream",
          "name": "stdout",
          "text": [
            "The best model is Logistic Regression with an accuracy of 0.88.\n"
          ]
        }
      ],
      "source": [
        "# best-performing model\n",
        "best_model_name = model_performance_df.index[0]  # Get the name of the best model\n",
        "best_accuracy = model_performance_df.iloc[0]['Accuracy']  # Get its accuracy\n",
        "\n",
        "# Manually map model names to the corresponding trained model objects\n",
        "model_mapping = {\n",
        "    'Logistic Regression': logistic_regression_classifier,\n",
        "    'Naive Bayes': nb_classifier,\n",
        "    'Random Forest': random_forest_classifier,\n",
        "    'KNN': knn_classifier,\n",
        "    'Decision Tree': decision_tree_classifier\n",
        "}\n",
        "\n",
        "# Retrieve the best model from the mapping\n",
        "best_model = model_mapping[best_model_name]\n",
        "\n",
        "# Display the best model and its accuracy\n",
        "print(f\"The best model is {best_model_name} with an accuracy of {best_accuracy:.2f}.\")\n"
      ]
    },
    {
      "cell_type": "markdown",
      "id": "d190f16f-4116-4fee-bbfc-53af646e88bc",
      "metadata": {
        "id": "d190f16f-4116-4fee-bbfc-53af646e88bc"
      },
      "source": [
        "From the results, `Logistic Regression` has the highest accuracy on the test set, making it the best choice for our sentiment prediction task. We save this model to use it later for predictions.\n"
      ]
    },
    {
      "cell_type": "markdown",
      "id": "4cde68e7-4e14-48c9-9914-2caa91359447",
      "metadata": {
        "id": "4cde68e7-4e14-48c9-9914-2caa91359447"
      },
      "source": [
        "### Confusion Matrix for the Best Model\n",
        "The confusion matrix graphically depicts the model's ability to predict, showcasing accurate classifications (true positives/negatives) and errors."
      ]
    },
    {
      "cell_type": "code",
      "execution_count": 21,
      "id": "ee3a624d-2971-4750-a1ae-35b61211fd0f",
      "metadata": {
        "id": "ee3a624d-2971-4750-a1ae-35b61211fd0f",
        "colab": {
          "base_uri": "https://localhost:8080/",
          "height": 488
        },
        "outputId": "2a0e8f5e-3dcb-4c65-d109-abe9fc86f643"
      },
      "outputs": [
        {
          "output_type": "display_data",
          "data": {
            "text/plain": [
              "<Figure size 700x500 with 2 Axes>"
            ],
            "image/png": "[encoded data removed]"
          },
          "metadata": {}
        }
      ],
      "source": [
        "from sklearn.metrics import confusion_matrix, ConfusionMatrixDisplay\n",
        "import matplotlib.pyplot as plt\n",
        "\n",
        "def visualize_confusion_matrix(classifier, test_features, true_labels):\n",
        "    predictions = classifier.predict(test_features)\n",
        "    confusion_mat = confusion_matrix(true_labels, predictions)\n",
        "\n",
        "    display_labels = [0, 1]  # Use your actual class labels\n",
        "\n",
        "    display_matrix = ConfusionMatrixDisplay(confusion_matrix=confusion_mat, display_labels=display_labels)\n",
        "\n",
        "    # Ensure it plots correctly\n",
        "    plt.figure(figsize=(7, 5))\n",
        "    display_matrix.plot(cmap=\"Blues\", values_format='d', ax=plt.gca())  # Set correct axis\n",
        "    plt.title('Confusion Matrix Display', fontsize=14)\n",
        "    plt.show()\n",
        "\n",
        "# Example usage:\n",
        "visualize_confusion_matrix(nb_classifier, X_testing_set, y_testing_labels)\n"
      ]
    },
    {
      "cell_type": "markdown",
      "id": "238cddc8-db66-40e8-9c01-5c152afc7578",
      "metadata": {
        "id": "238cddc8-db66-40e8-9c01-5c152afc7578"
      },
      "source": [
        "## Save the Model and Vectorizer\n",
        "\n",
        "Persist the optimized model and vectorizer as files to streamline future sentiment predictions.\n",
        "\n",
        "## vectorizer.pkl (TF-IDF Vectorizer)\n",
        "1. Stores the trained TF-IDF vectorizer, which converts text data into numerical format used for model training.\n",
        "2. Ensures new input reviews are processed the same way as the training data during deployment.\n",
        "3. Prevents inconsistencies in feature representation, allowing the model to make accurate predictions on new reviews.\n",
        "\n",
        "## sentiment_model.pkl (Best Trained Model)\n",
        "1. Stores only the best-performing model (e.g., Logistic Regression) based on accuracy, discarding the other trained models.\n",
        "2. Eliminates the need for retraining, allowing direct predictions on new reviews without re-running the entire pipeline.\n",
        "3. Used in deployment by loading the saved model and applying it to vectorized input data for real-time sentiment analysis."
      ]
    },
    {
      "cell_type": "code",
      "execution_count": 22,
      "id": "4eeeb8ad-e9d4-4ee9-88b8-2727f5ad2b5b",
      "metadata": {
        "id": "4eeeb8ad-e9d4-4ee9-88b8-2727f5ad2b5b",
        "outputId": "e6edec60-e4d2-48a6-ccbf-b892974b6fa8",
        "colab": {
          "base_uri": "https://localhost:8080/"
        }
      },
      "outputs": [
        {
          "output_type": "stream",
          "name": "stdout",
          "text": [
            "\n",
            "Model and vectorizer saved successfully as 'sentiment_model.pkl' and 'vectorizer.pkl'.\n"
          ]
        }
      ],
      "source": [
        "# Save the trained model and vectorizer for reuse\n",
        "import joblib\n",
        "\n",
        "# Save the best-performing model\n",
        "joblib.dump(best_model, 'sentiment_model.pkl')\n",
        "\n",
        "# Save the TF-IDF vectorizer\n",
        "joblib.dump(tfidf_encoder, 'vectorizer.pkl')\n",
        "\n",
        "print(\"\\nModel and vectorizer saved successfully as 'sentiment_model.pkl' and 'vectorizer.pkl'.\")\n"
      ]
    }
  ],
  "metadata": {
    "kernelspec": {
      "display_name": "Python 3 (ipykernel)",
      "language": "python",
      "name": "python3"
    },
    "language_info": {
      "codemirror_mode": {
        "name": "ipython",
        "version": 3
      },
      "file_extension": ".py",
      "mimetype": "text/x-python",
      "name": "python",
      "nbconvert_exporter": "python",
      "pygments_lexer": "ipython3",
      "version": "3.11.0"
    },
    "colab": {
      "provenance": []
    }
  },
  "nbformat": 4,
  "nbformat_minor": 5
}